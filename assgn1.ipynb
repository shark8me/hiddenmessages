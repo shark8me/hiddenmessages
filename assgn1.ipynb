{
 "cells": [
  {
   "cell_type": "code",
   "execution_count": 14,
   "metadata": {
    "collapsed": false
   },
   "outputs": [],
   "source": [
    "lines=[]\n",
    "with open(\"/home/kiran/Downloads/d27.txt\",'r') as f:\n",
    "    lines.append(f.readlines())"
   ]
  },
  {
   "cell_type": "code",
   "execution_count": 15,
   "metadata": {
    "collapsed": false
   },
   "outputs": [],
   "source": [
    "w=lines[0][0].strip('\\n')"
   ]
  },
  {
   "cell_type": "code",
   "execution_count": 16,
   "metadata": {
    "collapsed": false
   },
   "outputs": [
    {
     "data": {
      "text/plain": [
       "'GTGTTGATGACCTTGATGATTGATGAAATGCGACCTCATTGATGACGGAAATCCGGCTTGATGAAGCTTTGATGATTTGATGATTCAATTGATGATTGATGAGATTGATGACTTGATGACATTTTGATGATGACGAAACCCAGAGTTGATGATACTTTGATGATTGATGAGCGTTGATGACTGATTGATGATTCGAAGTTGATGAGTTGATGAAGATTGATGATTGATGATTGATGACTGATTGATGATTGATGAACGTTGATGAAGCTGTTGATGAGTTGATGAATTGATGAGTTTTTGATGATCTTTGATGATTGATGAATTGATGACTTGATGAGTTGATGAGGGGCGCGAGTTTGATGATGCTAAGTTGTTGATGATTGATGATTTGATGATTGATGATAGGTGTACAGCGTTTTGATGACTGTTGATGATTGATGATTGATGAGTTGATGATTGATGACTACTTGATGACAAACCCGACATTGATGATTGATGACTTGATGAGAGTTGATGAGCCGTTCCGGGTTGATGATTGGTTGATGATTGATGACTTGATGATTTGATGATTGATGAGCTTGATGAGATACCTTATTGATGAATTTGATGATGTTTGATGAGCACCTTTGATGACATGTCGTCGATTGGGACGATTGATGACTTCATATGTAGCATTGATGAGCTTGATGATTGATGATTGATGACACGCTTGATGAGCTAAAATATTGATGAGTTTGATGAGTTTTTTTGATGATTGATGAATTGATGATTGATGACTTGATGATTGATGATTGATGAGTCCGGGATTGATGATTTGATGAATTGATGATTGATGATCGTTGATGAATTTGATGAGCTTGATGACTTGATGATATTGATGATCAACTCGTTGATGAGTTGATGAGGACGGTAACTTGATGAGATTGCG'"
      ]
     },
     "execution_count": 16,
     "metadata": {},
     "output_type": "execute_result"
    }
   ],
   "source": [
    "w"
   ]
  },
  {
   "cell_type": "code",
   "execution_count": 21,
   "metadata": {
    "collapsed": false
   },
   "outputs": [],
   "source": [
    "pattern=lines[0][1].strip('\\n')"
   ]
  },
  {
   "cell_type": "code",
   "execution_count": 22,
   "metadata": {
    "collapsed": false
   },
   "outputs": [
    {
     "data": {
      "text/plain": [
       "29"
      ]
     },
     "execution_count": 22,
     "metadata": {},
     "output_type": "execute_result"
    }
   ],
   "source": [
    "#pattern='AACCTTGAA'\n",
    "lpat=len(pattern)\n",
    "len([w[i:i+lpat] for i in range(0,len(w)-lpat) if w[i:i+lpat] == pattern])"
   ]
  },
  {
   "cell_type": "markdown",
   "metadata": {},
   "source": [
    "## Problem 2"
   ]
  },
  {
   "cell_type": "code",
   "execution_count": 39,
   "metadata": {
    "collapsed": true
   },
   "outputs": [],
   "source": [
    "lines=[]\n",
    "with open(\"/home/kiran/Downloads/d29.txt\",'r') as f:\n",
    "    lines.append(f.readlines())"
   ]
  },
  {
   "cell_type": "code",
   "execution_count": 40,
   "metadata": {
    "collapsed": false
   },
   "outputs": [],
   "source": [
    "w=lines[0][0].strip('\\n')\n",
    "k=int(lines[0][1].strip('\\n'))"
   ]
  },
  {
   "cell_type": "code",
   "execution_count": 41,
   "metadata": {
    "collapsed": false
   },
   "outputs": [
    {
     "data": {
      "text/plain": [
       "('GTTGACCGTTGACCAACACCGTGAACACCGTGGTTGACCGTCACAGTCGTCACAGTCACTTCGAGTTGACCAACACCGTGAACACCGTGCTGTCCTCCTGTCCTCGTCACAGTCGTCACAGTCGTTGACCACTTCGAACTTCGAGTCACAGTCGTCACAGTCGTCACAGTCAACACCGTGACTTCGAACTTCGAGTCACAGTCCTGTCCTCCTGTCCTCAACACCGTGACTTCGAAACACCGTGCTGTCCTCGTCACAGTCGTTGACCACTTCGAACTTCGAGTCACAGTCCTGTCCTCGTCACAGTCAACACCGTGGTCACAGTCAACACCGTGGTCACAGTCGTTGACCAACACCGTGAACACCGTGGTCACAGTCCTGTCCTCACTTCGAAACACCGTGCTGTCCTCGTCACAGTCGTCACAGTCCTGTCCTCGTTGACCACTTCGAGTCACAGTCCTGTCCTCGTTGACCACTTCGACTGTCCTCACTTCGACTGTCCTCGTTGACCACTTCGAGTCACAGTCGTCACAGTCGTTGACCCTGTCCTCCTGTCCTCGTTGACCGTCACAGTCACTTCGAAACACCGTGGTCACAGTCACTTCGAGTCACAGTCCTGTCCTCACTTCGAGTCACAGTCACTTCGAAACACCGTGCTGTCCTCAACACCGTGACTTCGAGTCACAGTCAACACCGTGGTTGACCCTGTCCTCGTTGACCGTTGACCCTGTCCTCGTCACAGTCACTTCGAGTTGACCCTGTCCTCACTTCGAAACACCGTGCTGTCCTCAACACCGTGAACACCGTGGTCACAGTCACTTCGAGTTGACCGTCACAGTCACTTCGA',\n",
       " 11)"
      ]
     },
     "execution_count": 41,
     "metadata": {},
     "output_type": "execute_result"
    }
   ],
   "source": [
    "w,k"
   ]
  },
  {
   "cell_type": "code",
   "execution_count": 42,
   "metadata": {
    "collapsed": false
   },
   "outputs": [],
   "source": [
    "freq=[w[i:i+k] for i in range(0,len(w)-k)]"
   ]
  },
  {
   "cell_type": "code",
   "execution_count": 43,
   "metadata": {
    "collapsed": false
   },
   "outputs": [
    {
     "data": {
      "text/plain": [
       "{'AAACACCGTGC': 4,\n",
       " 'AAACACCGTGG': 1,\n",
       " 'AACACCGTGAA': 4,\n",
       " 'AACACCGTGAC': 3,\n",
       " 'AACACCGTGCT': 5,\n",
       " 'AACACCGTGGT': 7,\n",
       " 'AACTTCGAGTC': 3,\n",
       " 'ACACCGTGAAC': 4,\n",
       " 'ACACCGTGACT': 3,\n",
       " 'ACACCGTGCTG': 5,\n",
       " 'ACACCGTGGTC': 5,\n",
       " 'ACACCGTGGTT': 2,\n",
       " 'ACAGTCAACAC': 4,\n",
       " 'ACAGTCACTTC': 7,\n",
       " 'ACAGTCCTGTC': 6,\n",
       " 'ACAGTCGTCAC': 6,\n",
       " 'ACAGTCGTTGA': 4,\n",
       " 'ACCAACACCGT': 3,\n",
       " 'ACCACTTCGAA': 2,\n",
       " 'ACCACTTCGAC': 1,\n",
       " 'ACCACTTCGAG': 2,\n",
       " 'ACCCTGTCCTC': 4,\n",
       " 'ACCGTCACAGT': 3,\n",
       " 'ACCGTGAACAC': 4,\n",
       " 'ACCGTGACTTC': 3,\n",
       " 'ACCGTGCTGTC': 5,\n",
       " 'ACCGTGGTCAC': 5,\n",
       " 'ACCGTGGTTGA': 2,\n",
       " 'ACCGTTGACCA': 1,\n",
       " 'ACCGTTGACCC': 1,\n",
       " 'ACTGTCCTCAC': 1,\n",
       " 'ACTGTCCTCGT': 1,\n",
       " 'ACTTCGAAACA': 5,\n",
       " 'ACTTCGAACTT': 3,\n",
       " 'ACTTCGACTGT': 2,\n",
       " 'ACTTCGAGTCA': 8,\n",
       " 'ACTTCGAGTTG': 3,\n",
       " 'AGTCAACACCG': 4,\n",
       " 'AGTCACAGTCA': 2,\n",
       " 'AGTCACAGTCC': 4,\n",
       " 'AGTCACAGTCG': 2,\n",
       " 'AGTCACTTCGA': 6,\n",
       " 'AGTCCTGTCCT': 6,\n",
       " 'AGTCGTCACAG': 6,\n",
       " 'AGTCGTTGACC': 4,\n",
       " 'AGTTGACCAAC': 1,\n",
       " 'AGTTGACCCTG': 1,\n",
       " 'AGTTGACCGTC': 1,\n",
       " 'CAACACCGTGA': 7,\n",
       " 'CAACACCGTGG': 3,\n",
       " 'CACAGTCAACA': 4,\n",
       " 'CACAGTCACTT': 7,\n",
       " 'CACAGTCCTGT': 6,\n",
       " 'CACAGTCGTCA': 6,\n",
       " 'CACAGTCGTTG': 4,\n",
       " 'CACCGTGAACA': 4,\n",
       " 'CACCGTGACTT': 3,\n",
       " 'CACCGTGCTGT': 5,\n",
       " 'CACCGTGGTCA': 5,\n",
       " 'CACCGTGGTTG': 2,\n",
       " 'CACTTCGAAAC': 4,\n",
       " 'CACTTCGAACT': 2,\n",
       " 'CACTTCGACTG': 2,\n",
       " 'CACTTCGAGTC': 4,\n",
       " 'CACTTCGAGTT': 3,\n",
       " 'CAGTCAACACC': 4,\n",
       " 'CAGTCACTTCG': 7,\n",
       " 'CAGTCCTGTCC': 6,\n",
       " 'CAGTCGTCACA': 6,\n",
       " 'CAGTCGTTGAC': 4,\n",
       " 'CCAACACCGTG': 3,\n",
       " 'CCACTTCGAAC': 2,\n",
       " 'CCACTTCGACT': 1,\n",
       " 'CCACTTCGAGT': 2,\n",
       " 'CCCTGTCCTCA': 1,\n",
       " 'CCCTGTCCTCC': 1,\n",
       " 'CCCTGTCCTCG': 2,\n",
       " 'CCGTCACAGTC': 3,\n",
       " 'CCGTGAACACC': 4,\n",
       " 'CCGTGACTTCG': 3,\n",
       " 'CCGTGCTGTCC': 5,\n",
       " 'CCGTGGTCACA': 5,\n",
       " 'CCGTGGTTGAC': 2,\n",
       " 'CCGTTGACCAA': 1,\n",
       " 'CCGTTGACCCT': 1,\n",
       " 'CCTCAACACCG': 3,\n",
       " 'CCTCACTTCGA': 4,\n",
       " 'CCTCCTGTCCT': 3,\n",
       " 'CCTCGTCACAG': 5,\n",
       " 'CCTCGTTGACC': 5,\n",
       " 'CCTGTCCTCAA': 1,\n",
       " 'CCTGTCCTCAC': 3,\n",
       " 'CCTGTCCTCCT': 2,\n",
       " 'CCTGTCCTCGT': 7,\n",
       " 'CGAAACACCGT': 5,\n",
       " 'CGAACTTCGAG': 3,\n",
       " 'CGACTGTCCTC': 2,\n",
       " 'CGAGTCACAGT': 8,\n",
       " 'CGAGTTGACCA': 1,\n",
       " 'CGAGTTGACCC': 1,\n",
       " 'CGAGTTGACCG': 1,\n",
       " 'CGTCACAGTCA': 6,\n",
       " 'CGTCACAGTCC': 1,\n",
       " 'CGTCACAGTCG': 7,\n",
       " 'CGTGAACACCG': 4,\n",
       " 'CGTGACTTCGA': 3,\n",
       " 'CGTGCTGTCCT': 5,\n",
       " 'CGTGGTCACAG': 5,\n",
       " 'CGTGGTTGACC': 2,\n",
       " 'CGTTGACCAAC': 2,\n",
       " 'CGTTGACCACT': 5,\n",
       " 'CGTTGACCCTG': 2,\n",
       " 'CGTTGACCGTC': 1,\n",
       " 'CGTTGACCGTT': 1,\n",
       " 'CTCAACACCGT': 3,\n",
       " 'CTCACTTCGAA': 2,\n",
       " 'CTCACTTCGAC': 1,\n",
       " 'CTCACTTCGAG': 1,\n",
       " 'CTCCTGTCCTC': 3,\n",
       " 'CTCGTCACAGT': 5,\n",
       " 'CTCGTTGACCA': 3,\n",
       " 'CTCGTTGACCG': 2,\n",
       " 'CTGTCCTCAAC': 3,\n",
       " 'CTGTCCTCACT': 4,\n",
       " 'CTGTCCTCCTG': 3,\n",
       " 'CTGTCCTCGTC': 5,\n",
       " 'CTGTCCTCGTT': 5,\n",
       " 'CTTCGAAACAC': 5,\n",
       " 'CTTCGAACTTC': 3,\n",
       " 'CTTCGACTGTC': 2,\n",
       " 'CTTCGAGTCAC': 8,\n",
       " 'CTTCGAGTTGA': 3,\n",
       " 'GAAACACCGTG': 5,\n",
       " 'GAACACCGTGC': 1,\n",
       " 'GAACACCGTGG': 3,\n",
       " 'GAACTTCGAGT': 3,\n",
       " 'GACCAACACCG': 3,\n",
       " 'GACCACTTCGA': 5,\n",
       " 'GACCCTGTCCT': 4,\n",
       " 'GACCGTCACAG': 3,\n",
       " 'GACCGTTGACC': 2,\n",
       " 'GACTGTCCTCA': 1,\n",
       " 'GACTGTCCTCG': 1,\n",
       " 'GACTTCGAAAC': 1,\n",
       " 'GACTTCGAACT': 1,\n",
       " 'GACTTCGAGTC': 1,\n",
       " 'GAGTCACAGTC': 8,\n",
       " 'GAGTTGACCAA': 1,\n",
       " 'GAGTTGACCCT': 1,\n",
       " 'GAGTTGACCGT': 1,\n",
       " 'GCTGTCCTCAA': 2,\n",
       " 'GCTGTCCTCCT': 1,\n",
       " 'GCTGTCCTCGT': 2,\n",
       " 'GGTCACAGTCA': 3,\n",
       " 'GGTCACAGTCC': 1,\n",
       " 'GGTCACAGTCG': 1,\n",
       " 'GGTTGACCCTG': 1,\n",
       " 'GGTTGACCGTC': 1,\n",
       " 'GTCAACACCGT': 4,\n",
       " 'GTCACAGTCAA': 4,\n",
       " 'GTCACAGTCAC': 7,\n",
       " 'GTCACAGTCCT': 6,\n",
       " 'GTCACAGTCGT': 10,\n",
       " 'GTCACTTCGAA': 2,\n",
       " 'GTCACTTCGAG': 4,\n",
       " 'GTCCTCAACAC': 3,\n",
       " 'GTCCTCACTTC': 4,\n",
       " 'GTCCTCCTGTC': 3,\n",
       " 'GTCCTCGTCAC': 5,\n",
       " 'GTCCTCGTTGA': 5,\n",
       " 'GTCCTGTCCTC': 6,\n",
       " 'GTCGTCACAGT': 6,\n",
       " 'GTCGTTGACCA': 3,\n",
       " 'GTCGTTGACCC': 1,\n",
       " 'GTGAACACCGT': 4,\n",
       " 'GTGACTTCGAA': 2,\n",
       " 'GTGACTTCGAG': 1,\n",
       " 'GTGCTGTCCTC': 5,\n",
       " 'GTGGTCACAGT': 5,\n",
       " 'GTGGTTGACCC': 1,\n",
       " 'GTGGTTGACCG': 1,\n",
       " 'GTTGACCAACA': 3,\n",
       " 'GTTGACCACTT': 5,\n",
       " 'GTTGACCCTGT': 4,\n",
       " 'GTTGACCGTCA': 3,\n",
       " 'GTTGACCGTTG': 2,\n",
       " 'TCAACACCGTG': 7,\n",
       " 'TCACAGTCAAC': 4,\n",
       " 'TCACAGTCACT': 7,\n",
       " 'TCACAGTCCTG': 6,\n",
       " 'TCACAGTCGTC': 6,\n",
       " 'TCACAGTCGTT': 4,\n",
       " 'TCACTTCGAAA': 4,\n",
       " 'TCACTTCGACT': 1,\n",
       " 'TCACTTCGAGT': 5,\n",
       " 'TCCTCAACACC': 3,\n",
       " 'TCCTCACTTCG': 4,\n",
       " 'TCCTCCTGTCC': 3,\n",
       " 'TCCTCGTCACA': 5,\n",
       " 'TCCTCGTTGAC': 5,\n",
       " 'TCCTGTCCTCA': 3,\n",
       " 'TCCTGTCCTCC': 1,\n",
       " 'TCCTGTCCTCG': 5,\n",
       " 'TCGAAACACCG': 5,\n",
       " 'TCGAACTTCGA': 3,\n",
       " 'TCGACTGTCCT': 2,\n",
       " 'TCGAGTCACAG': 8,\n",
       " 'TCGAGTTGACC': 3,\n",
       " 'TCGTCACAGTC': 11,\n",
       " 'TCGTTGACCAA': 1,\n",
       " 'TCGTTGACCAC': 5,\n",
       " 'TCGTTGACCCT': 1,\n",
       " 'TCGTTGACCGT': 2,\n",
       " 'TGAACACCGTG': 4,\n",
       " 'TGACCAACACC': 3,\n",
       " 'TGACCACTTCG': 5,\n",
       " 'TGACCCTGTCC': 4,\n",
       " 'TGACCGTCACA': 3,\n",
       " 'TGACCGTTGAC': 2,\n",
       " 'TGACTTCGAAA': 1,\n",
       " 'TGACTTCGAAC': 1,\n",
       " 'TGACTTCGAGT': 1,\n",
       " 'TGCTGTCCTCA': 2,\n",
       " 'TGCTGTCCTCC': 1,\n",
       " 'TGCTGTCCTCG': 2,\n",
       " 'TGGTCACAGTC': 5,\n",
       " 'TGGTTGACCCT': 1,\n",
       " 'TGGTTGACCGT': 1,\n",
       " 'TGTCCTCAACA': 3,\n",
       " 'TGTCCTCACTT': 4,\n",
       " 'TGTCCTCCTGT': 3,\n",
       " 'TGTCCTCGTCA': 5,\n",
       " 'TGTCCTCGTTG': 5,\n",
       " 'TTCGAAACACC': 5,\n",
       " 'TTCGAACTTCG': 3,\n",
       " 'TTCGACTGTCC': 2,\n",
       " 'TTCGAGTCACA': 8,\n",
       " 'TTCGAGTTGAC': 3,\n",
       " 'TTGACCAACAC': 3,\n",
       " 'TTGACCACTTC': 5,\n",
       " 'TTGACCCTGTC': 4,\n",
       " 'TTGACCGTCAC': 3,\n",
       " 'TTGACCGTTGA': 2}"
      ]
     },
     "execution_count": 43,
     "metadata": {},
     "output_type": "execute_result"
    }
   ],
   "source": [
    "d={}\n",
    "for i in freq:\n",
    "    if i in d.keys():\n",
    "        d[i]=d[i]+1\n",
    "    else:\n",
    "        d[i]=1\n",
    "d"
   ]
  },
  {
   "cell_type": "code",
   "execution_count": 44,
   "metadata": {
    "collapsed": true
   },
   "outputs": [],
   "source": [
    "import operator\n",
    "sorted_x = sorted(d.items(), key=operator.itemgetter(1),reverse=True)"
   ]
  },
  {
   "cell_type": "code",
   "execution_count": 1,
   "metadata": {
    "collapsed": false
   },
   "outputs": [],
   "source": [
    "m={'a':'t','g':'c','c':'g','t':'a'}"
   ]
  },
  {
   "cell_type": "code",
   "execution_count": 11,
   "metadata": {
    "collapsed": false
   },
   "outputs": [],
   "source": [
    "def cvtrev(istr):\n",
    "    m2=[m[i] for i in istr.lower()]\n",
    "    m2.reverse()\n",
    "    return ''.join(m2).upper()\n"
   ]
  },
  {
   "cell_type": "code",
   "execution_count": 12,
   "metadata": {
    "collapsed": true
   },
   "outputs": [],
   "source": [
    "lines=[]\n",
    "with open(\"/home/kiran/Downloads/dataset_3_2.txt\",'r') as f:\n",
    "    lines.append(f.readlines())"
   ]
  },
  {
   "cell_type": "code",
   "execution_count": 18,
   "metadata": {
    "collapsed": false
   },
   "outputs": [],
   "source": [
    "k=cvtrev(lines[0][0].strip('\\n'))"
   ]
  },
  {
   "cell_type": "code",
   "execution_count": 19,
   "metadata": {
    "collapsed": false
   },
   "outputs": [
    {
     "data": {
      "text/plain": [
       "['CTTGATCAT', 'ATGATCAAG', 'TGATCAAGA', 'GATCAAGAG']"
      ]
     },
     "execution_count": 19,
     "metadata": {},
     "output_type": "execute_result"
    }
   ],
   "source": [
    "[cvtrev(i) for i in ['ATGATCAAG', 'CTTGATCAT', 'TCTTGATCA','CTCTTGATC']]"
   ]
  },
  {
   "cell_type": "code",
   "execution_count": 31,
   "metadata": {
    "collapsed": false
   },
   "outputs": [
    {
     "data": {
      "text/plain": [
       "'1 3 9'"
      ]
     },
     "execution_count": 31,
     "metadata": {},
     "output_type": "execute_result"
    }
   ],
   "source": [
    "s='ATAT'\n",
    "l='GATATATGCATATACTT'\n",
    "' '.join([str(i) for i in range(len(l)-len(s)) if l[i:i+len(s)]==s])"
   ]
  },
  {
   "cell_type": "code",
   "execution_count": 36,
   "metadata": {
    "collapsed": false
   },
   "outputs": [],
   "source": [
    "lines=[]\n",
    "with open(\"/home/kiran/Downloads/dataset_3_5 (1).txt\",'r') as f:\n",
    "    lines.append(f.readlines())"
   ]
  },
  {
   "cell_type": "code",
   "execution_count": 37,
   "metadata": {
    "collapsed": false
   },
   "outputs": [],
   "source": [
    "s,l=[i.strip('\\n') for i in lines[0]]"
   ]
  },
  {
   "cell_type": "code",
   "execution_count": 38,
   "metadata": {
    "collapsed": false
   },
   "outputs": [
    {
     "data": {
      "text/plain": [
       "'2 9 166 221 228 257 367 451 458 465 507 577 584 593 603 670 699 739 746 813 914 921 949 964 1003 1029 1036 1057 1084 1091 1118 1157 1176 1183 1198 1205 1273 1280 1295 1330 1365 1422 1429 1481 1548 1555 1570 1602 1682 1691 1749 1756 1781 1796 1803 1835 1852 1859 1898 1943 1976 1992 1999 2006 2042 2049 2073 2089 2111 2118 2171 2227 2275 2290 2297 2318 2325 2332 2349 2371 2387 2394 2436 2456 2471 2498 2531 2581 2667 2683 2718 2749 2775 2832 2885 2896 2941 2967 3035 3042 3058 3131 3138 3145 3185 3201 3208 3237 3322 3346 3364 3399 3427 3469 3510 3570 3586 3636 3643 3650 3709 3724 3752 3784 3805 3817 3824 3988 3999 4006 4032 4122 4171 4199 4214 4295 4302 4345 4376 4404 4420 4437 4515 4522 4529 4547 4562 4569 4585 4601 4618 4633 4655 4670 4693 4785 4800 4881 4896 4903 4934 4973 5023 5076 5094 5277 5355 5371 5390 5521 5545 5564 5614 5621 5694 5724 5747 5754 5761 5768 5786 5811 5836 5845 5852 5890 6111 6139 6208 6256 6263 6270 6320 6339 6374 6404 6464 6559 6619 6626 6633 6640 6666 6686 6754 6822 6874 6881 6952 6970 7012 7040 7047 7062 7077 7084 7091 7098 7129 7136 7293 7353 7360 7432 7517 7542 7549 7621 7684 7691 7751 7758 7796 7831 7981 8069 8076 8242 8262 8269 8276 8283 8360 8376 8391 8418 8425 8507 8603 8622 8678 8693 8752 8784 8791 8831 8946 8968 8975 9036 9043 9060 9186 9207 9214 9227'"
      ]
     },
     "execution_count": 38,
     "metadata": {},
     "output_type": "execute_result"
    }
   ],
   "source": [
    "' '.join([str(i) for i in range(len(l)-len(s)) if l[i:i+len(s)]==s])"
   ]
  },
  {
   "cell_type": "code",
   "execution_count": 75,
   "metadata": {
    "collapsed": false
   },
   "outputs": [
    {
     "data": {
      "text/plain": [
       "[[0, 1, 2, 3], [1, 2, 3, 4]]"
      ]
     },
     "execution_count": 75,
     "metadata": {},
     "output_type": "execute_result"
    }
   ],
   "source": [
    "x,l=range(5),4\n",
    "[x[i:i+l] for i in range(len(x)-l+1)] "
   ]
  },
  {
   "cell_type": "code",
   "execution_count": 159,
   "metadata": {
    "collapsed": false
   },
   "outputs": [
    {
     "name": "stdout",
     "output_type": "stream",
     "text": [
      "{'AAACA': [64], 'GAGAA': [55], 'ACATT': [66], 'AAGAA': [17], 'CATTG': [67], 'AGATG': [10], 'CAATG': [25], 'AGAGG': [59], 'GGACT': [1], 'AGAGA': [54], 'GGAAA': [62], 'AGTGA': [49], 'GATGT': [11], 'AGAAG': [56], 'AGAGT': [47], 'ATGTG': [12, 27], 'AGAAC': [18], 'AGACT': [33], 'AAGAC': [32], 'CGACA': [6, 22, 38, 43], 'TTGTA': [69], 'AAGAG': [53, 58], 'CAGAT': [9], 'CACGA': [41], 'ACAGA': [8, 45], 'TCGAC': [5, 37], 'ATTGT': [68], 'GTGAA': [14, 29, 50], 'CGGAC': [0], 'CAGAG': [46], 'ACAAT': [24], 'AGGAA': [61], 'AACGA': [20], 'GAACG': [19], 'GAAAC': [63], 'AATGT': [26], 'GAGGA': [60], 'ACACG': [40], 'GAGTG': [48], 'GACAA': [23], 'TGAAG': [15, 30, 51], 'GACAC': [39], 'CTCGA': [4, 36], 'GACAG': [7, 44], 'GAAGA': [16, 31, 52, 57], 'ACGAC': [21, 42], 'AACAT': [65], 'TGTGA': [13, 28], 'GACTC': [2, 34], 'ACTCG': [3, 35]}\n",
      "['CGACA', 'GAAGA']\n",
      "[6, 22, 38, 43]\n",
      "[16, 31, 52, 57]\n",
      "2\n"
     ]
    },
    {
     "data": {
      "text/plain": [
       "(Set(['CGACA', 'GAAGA']),\n",
       " {'CGACA': [6, 22, 38, 43], 'GAAGA': [16, 31, 52, 57]})"
      ]
     },
     "execution_count": 159,
     "metadata": {},
     "output_type": "execute_result"
    }
   ],
   "source": [
    "#Clump finding problem\n",
    "tststr='CGGACTCGACAGATGTGAAGAACGACAATGTGAAGACTCGACACGACAGAGTGAAGAGAAGAGGAAACATTGTAA'\n",
    "import itertools\n",
    "\n",
    "def isvalid(x,k,l,t):\n",
    "    for i in range(len(x)-t+1):\n",
    "        j=x[i:i+t]\n",
    "        if len(j)>=t and j[-1]-j[0]+k <=l:\n",
    "            print j\n",
    "            return True\n",
    "        \n",
    "def find_in_l(genomepart,k,l,t):\n",
    "    indxmap={}\n",
    "    for i in range(len(genomepart)-k):\n",
    "        ke=genomepart[i:i+k]\n",
    "        idx=indxmap.get(ke,[])\n",
    "        indxmap[ke]=idx+[i]\n",
    "        \n",
    "    print indxmap\n",
    "    t2=dict([(k1,v) for k1,v in indxmap.iteritems() if len(v)>=t])\n",
    "    print t2.keys()\n",
    "    s=Set()\n",
    "    [s.add(k1) for k1,v in t2.iteritems() if isvalid(v,k,l,t)]\n",
    "    print len(s)\n",
    "    return s,t2\n",
    "    \n",
    "find_in_l(tststr,5,50,4)\n",
    "#isvalid([6, 22, 38, 43],5,50,4)\n",
    "#t2\n",
    "#indxmap\n",
    "#find_in_l(tststr,5,4)\n"
   ]
  },
  {
   "cell_type": "code",
   "execution_count": 13,
   "metadata": {
    "collapsed": false
   },
   "outputs": [
    {
     "data": {
      "text/plain": [
       "75"
      ]
     },
     "execution_count": 13,
     "metadata": {},
     "output_type": "execute_result"
    }
   ],
   "source": [
    "len(tststr)"
   ]
  },
  {
   "cell_type": "code",
   "execution_count": 116,
   "metadata": {
    "collapsed": false
   },
   "outputs": [],
   "source": [
    "lines=[]\n",
    "with open(\"/home/kiran/src/mooc/hiddenmessages/dataset_4_5.txt\",'r') as f:\n",
    "    lines.append(f.readlines())"
   ]
  },
  {
   "cell_type": "code",
   "execution_count": 129,
   "metadata": {
    "collapsed": false
   },
   "outputs": [],
   "source": [
    "tst=lines[0][0].strip('\\n')\n",
    "k,L,t=[int(i) for i in lines[0][1].strip('\\n').split(' ')]"
   ]
  },
  {
   "cell_type": "code",
   "execution_count": 141,
   "metadata": {
    "collapsed": false
   },
   "outputs": [
    {
     "name": "stdout",
     "output_type": "stream",
     "text": [
      "216\n",
      "[5587, 5638, 5695]\n",
      "[5521, 5597, 5666]\n",
      "[5531, 5742, 5848]\n",
      "[9281, 9572, 9627]\n",
      "[2982, 3147, 3158]\n",
      "[3192, 3262, 3411]\n",
      "[381, 680, 691]\n",
      "[6047, 6073, 6120]\n",
      "[4679, 4713, 4922]\n",
      "[4156, 4239, 4421]\n",
      "[5520, 5530, 5586]\n",
      "[5650, 5730, 5773]\n",
      "[6146, 6299, 6462]\n",
      "[1074, 1284, 1363]\n",
      "[9277, 9367, 9461]\n",
      "[1079, 1087, 1126]\n",
      "[1122, 1215, 1254]\n",
      "[2998, 3106, 3134]\n",
      "[246, 282, 385]\n",
      "[6145, 6298, 6461]\n",
      "[2981, 3146, 3157]\n",
      "[371, 457, 483]\n",
      "[328, 450, 636]\n",
      "[5975, 6031, 6317]\n",
      "[245, 257, 281]\n",
      "[4681, 4715, 5083]\n",
      "[6546, 6635, 6646]\n",
      "[5726, 5902, 5910]\n",
      "[9246, 9278, 9287]\n",
      "[6325, 6451, 6529]\n",
      "[5594, 5757, 5845]\n",
      "[3135, 3415, 3502]\n",
      "[7053, 7225, 7419]\n",
      "[7052, 7196, 7224]\n",
      "[3115, 3132, 3250]\n",
      "[3148, 3348, 3444]\n",
      "[5979, 6321, 6338]\n",
      "[7049, 7069, 7174]\n",
      "[4620, 4638, 4762]\n",
      "[7042, 7095, 7342]\n",
      "[6323, 6449, 6527]\n",
      "[6144, 6297, 6484]\n",
      "[9282, 9573, 9646]\n",
      "[3578, 3672, 3698]\n",
      "[7050, 7070, 7093]\n",
      "[7266, 7298, 7327]\n",
      "[6733, 6862, 6995]\n",
      "[4635, 4819, 4867]\n",
      "[2980, 2997, 3013]\n",
      "[5727, 5903, 5911]\n",
      "[9245, 9286, 9344]\n",
      "[6702, 6749, 6772]\n",
      "[4606, 4636, 4791]\n",
      "[6786, 6934, 7101]\n",
      "[4019, 4324, 4441]\n",
      "[4231, 4364, 4455]\n",
      "[1066, 1265, 1468]\n",
      "[6773, 6868, 6988]\n",
      "[6735, 6864, 6997]\n",
      "[7204, 7278, 7465]\n",
      "[1081, 1128, 1158]\n",
      "[6734, 6863, 6996]\n",
      "[7087, 7301, 7319]\n",
      "[6703, 6851, 7113]\n",
      "[7086, 7151, 7177]\n",
      "[6710, 6750, 6811]\n",
      "[6784, 6924, 6974]\n",
      "[6853, 7120, 7137]\n",
      "[2995, 3103, 3291]\n",
      "[6327, 6336, 6453]\n",
      "[6000, 6010, 6141]\n",
      "[6324, 6450, 6528]\n",
      "[9243, 9585, 9666]\n",
      "[1123, 1216, 1255]\n",
      "[6693, 6736, 6747]\n",
      "[2996, 3012, 3104]\n",
      "[9580, 9608, 9637]\n",
      "[3249, 3424, 3510]\n",
      "[5585, 5636, 5693]\n",
      "[4618, 4676, 4692]\n",
      "[6571, 6591, 6599]\n",
      "[5977, 6033, 6044]\n",
      "[9280, 9571, 9626]\n",
      "[5999, 6009, 6293]\n",
      "[4127, 4194, 4263]\n",
      "[4286, 4315, 4506]\n",
      "[4022, 4137, 4424]\n",
      "[3971, 4193, 4215]\n",
      "[2979, 3193, 3263]\n",
      "[9302, 9325, 9392]\n",
      "[5519, 5664, 5811]\n",
      "[3032, 3125, 3195]\n",
      "[9305, 9615, 9653]\n",
      "[242, 278, 291]\n",
      "[3029, 3177, 3313]\n",
      "[4119, 4159, 4285]\n",
      "[9283, 9574, 9602]\n",
      "[9328, 9522, 9596]\n",
      "[1032, 1192, 1247]\n",
      "[1168, 1367, 1391]\n",
      "[9284, 9575, 9603]\n",
      "[1218, 1312, 1513]\n",
      "[1080, 1127, 1135]\n",
      "[9430, 9634, 9658]\n",
      "[4790, 4854, 4918]\n",
      "[5588, 5696, 5723]\n",
      "[6187, 6209, 6438]\n",
      "[4640, 4764, 4993]\n",
      "[5589, 5697, 5762]\n",
      "[3970, 4021, 4044]\n",
      "[1049, 1078, 1086]\n",
      "[6701, 6737, 6748]\n",
      "[411, 759, 816]\n",
      "[6069, 6082, 6435]\n",
      "[6253, 6427, 6653]\n",
      "[6085, 6305, 6391]\n",
      "[6046, 6072, 6119]\n",
      "[6143, 6296, 6483]\n",
      "[6147, 6300, 6463]\n",
      "[7088, 7320, 7458]\n",
      "[5976, 6032, 6043]\n",
      "[255, 325, 408]\n",
      "[1031, 1048, 1077]\n",
      "[4117, 4157, 4191]\n",
      "[4802, 4881, 5078]\n",
      "[1193, 1269, 1289]\n",
      "[7091, 7461, 7565]\n",
      "[6254, 6375, 6547]\n",
      "[368, 557, 812]\n",
      "[6697, 6858, 7167]\n",
      "[447, 581, 756]\n",
      "[407, 480, 660]\n",
      "[6420, 6568, 6618]\n",
      "[4675, 4726, 4759]\n",
      "[6255, 6376, 6548]\n",
      "[369, 558, 722]\n",
      "[4607, 4619, 4637]\n",
      "[7243, 7275, 7315]\n",
      "[5529, 5648, 5728]\n",
      "[1082, 1129, 1159]\n",
      "[5978, 6151, 6320]\n",
      "[6045, 6071, 6084]\n",
      "[4801, 4880, 4981]\n",
      "[6271, 6285, 6491]\n",
      "[4988, 5048, 5090]\n",
      "[6700, 6770, 6830]\n",
      "[6322, 6448, 6526]\n",
      "[1047, 1076, 1190]\n",
      "[6034, 6186, 6208]\n",
      "[4639, 4763, 4992]\n",
      "[1266, 1469, 1511]\n",
      "[294, 410, 683]\n",
      "[6326, 6335, 6452]\n",
      "[4694, 4729, 4793]\n",
      "[5724, 5900, 5908]\n",
      "[4680, 4714, 4923]\n",
      "[244, 256, 280]\n",
      "[4857, 4891, 4974]\n",
      "[4608, 4678, 4712]\n",
      "[6269, 6360, 6501]\n",
      "[6148, 6301, 6464]\n",
      "[7242, 7274, 7314]\n",
      "[7416, 7596, 7607]\n",
      "[1169, 1392, 1424]\n",
      "[5595, 5702, 5740]\n",
      "[1030, 1153, 1166]\n",
      "[7041, 7051, 7085]\n",
      "[7152, 7237, 7269]\n",
      "[4045, 4079, 4242]\n",
      "[4020, 4043, 4213]\n",
      "[3969, 4077, 4260]\n",
      "[9285, 9455, 9576]\n",
      "[6699, 6769, 6875]\n",
      "[6116, 6149, 6283]\n",
      "[7092, 7233, 7462]\n",
      "[7178, 7247, 7599]\n",
      "[3143, 3154, 3450]\n",
      "[5725, 5901, 5909]\n",
      "[6704, 6852, 7136]\n",
      "[5961, 5988, 6094]\n",
      "[243, 279, 292]\n",
      "[9288, 9304, 9327]\n",
      "[7040, 7149, 7194]\n",
      "[1046, 1075, 1285]\n",
      "[6142, 6295, 6482]\n",
      "[327, 449, 614]\n",
      "[6002, 6012, 6174]\n",
      "[3030, 3123, 3144]\n",
      "[4135, 4149, 4283]\n",
      "[4730, 4794, 5060]\n",
      "[9247, 9346, 9432]\n",
      "[4617, 4691, 4811]\n",
      "[4695, 4871, 5018]\n",
      "[5962, 5989, 6001]\n",
      "[9279, 9369, 9492]\n",
      "195\n"
     ]
    }
   ],
   "source": [
    "res=find_in_l(tst,9,500,3)"
   ]
  },
  {
   "cell_type": "code",
   "execution_count": 143,
   "metadata": {
    "collapsed": false
   },
   "outputs": [],
   "source": [
    "s,t2=res"
   ]
  },
  {
   "cell_type": "code",
   "execution_count": 146,
   "metadata": {
    "collapsed": false
   },
   "outputs": [],
   "source": [
    "for i in ['AGAAGTGGT','CAATATAAG','ACATCTATG','CTCCGCTTC','TGACGCTCC','CCCAGGAAC','ATTGTTAGG','CTATTCCCT']:\n",
    "    s.remove(i)"
   ]
  },
  {
   "cell_type": "code",
   "execution_count": 148,
   "metadata": {
    "collapsed": false
   },
   "outputs": [
    {
     "data": {
      "text/plain": [
       "[[5587,\n",
       "  5638,\n",
       "  5695,\n",
       "  5704,\n",
       "  5711,\n",
       "  5722,\n",
       "  5760,\n",
       "  5885,\n",
       "  5898,\n",
       "  5906,\n",
       "  5914,\n",
       "  6023,\n",
       "  6054],\n",
       " [5521, 5597, 5666, 5813, 7449],\n",
       " [5531, 5742, 5848],\n",
       " [5288, 9281, 9572, 9627, 9645, 9672],\n",
       " [3192, 3262, 3411],\n",
       " [381, 680, 691, 795],\n",
       " [6047, 6073, 6120, 6364],\n",
       " [4679, 4713, 4922, 5081],\n",
       " [4156, 4239, 4421],\n",
       " [5650, 5730, 5773],\n",
       " [6146, 6299, 6462, 6486],\n",
       " [4694, 4729, 4793, 4870, 5017, 5059],\n",
       " [1074, 1284, 1363, 1401],\n",
       " [9277, 9367, 9461, 9490],\n",
       " [1079, 1087, 1126, 1134, 1156],\n",
       " [1122, 1215, 1254, 1388],\n",
       " [2998, 3106, 3134, 3180, 3252, 3265, 3414, 3501],\n",
       " [246, 282, 385],\n",
       " [4747, 6145, 6298, 6461, 6485],\n",
       " [5976, 6032, 6043, 6184, 6206, 6219, 6318, 6388, 6444],\n",
       " [2981, 3146, 3157, 3210, 3316, 3346, 3427, 3442, 3453, 3532],\n",
       " [7091, 7461, 7565],\n",
       " [371, 457, 483, 560, 583, 724],\n",
       " [328, 450, 636],\n",
       " [5975, 6031, 6317, 6387, 6443],\n",
       " [245, 257, 281, 384, 514],\n",
       " [4681, 4715, 5083],\n",
       " [5726, 5902, 5910],\n",
       " [6325, 6451, 6529],\n",
       " [5594, 5757, 5845, 6020, 6051],\n",
       " [3135, 3415, 3502],\n",
       " [7053, 7225, 7419, 7483, 7610],\n",
       " [6703, 6851, 7113, 7135],\n",
       " [3115, 3132, 3250, 3425, 3499, 3511, 3559],\n",
       " [3148, 3348, 3444, 3534],\n",
       " [5979, 6321, 6338, 6447, 6525],\n",
       " [6254, 6375, 6547, 6589, 6636, 6654],\n",
       " [7049, 7069, 7174, 7339],\n",
       " [6148, 6301, 6464, 6488],\n",
       " [6710, 6750, 6811, 6879, 6965],\n",
       " [6323, 6449, 6527],\n",
       " [6144, 6297, 6484],\n",
       " [6327, 6336, 6453, 6531],\n",
       " [3029, 3177, 3313],\n",
       " [7050, 7070, 7093, 7175, 7234, 7340, 7463, 7526, 7567],\n",
       " [7266, 7298, 7327],\n",
       " [6733, 6862, 6995],\n",
       " [5727, 5903, 5911],\n",
       " [2995, 3103, 3291],\n",
       " [4606, 4636, 4791, 4820, 4855, 4868, 4889, 4919, 4989, 5049, 5091],\n",
       " [6786, 6934, 7101],\n",
       " [4019, 4324, 4441],\n",
       " [4231, 4364, 4455, 4473, 4502],\n",
       " [6699, 6769, 6875],\n",
       " [1066, 1265, 1468],\n",
       " [6773, 6868, 6988],\n",
       " [6735, 6864, 6997, 7002, 7162],\n",
       " [7204, 7278, 7465],\n",
       " [1081, 1128, 1158],\n",
       " [6734, 6863, 6996, 7161],\n",
       " [7052, 7196, 7224, 7329, 7418, 7482, 7528, 7609],\n",
       " [7086, 7151, 7177, 7236, 7246, 7268, 7300, 7318, 7456, 7598],\n",
       " [7042, 7095, 7342, 7536, 7569],\n",
       " [6784, 6924, 6974, 7132],\n",
       " [4635, 4819, 4867, 4888],\n",
       " [9282, 9573, 9646, 9673],\n",
       " [6000, 6010, 6141, 6294, 6413],\n",
       " [6324, 6450, 6528],\n",
       " [1058, 9243, 9585, 9666],\n",
       " [1123, 1216, 1255, 1310, 1389, 1421, 1611],\n",
       " [6693, 6736, 6747, 6865, 6932, 6998, 7003, 7163],\n",
       " [2996, 3012, 3104, 3208, 3292, 3530],\n",
       " [118, 9580, 9608, 9637, 9661],\n",
       " [3249, 3424, 3510, 3558],\n",
       " [5585, 5636, 5693, 5720, 5883],\n",
       " [4618, 4676, 4692, 4710, 4727, 4760, 4812, 4972, 5015],\n",
       " [6571, 6591, 6599, 6621],\n",
       " [5287, 9280, 9571, 9626, 9644, 9671],\n",
       " [5999, 6009, 6293],\n",
       " [4286, 4315, 4506],\n",
       " [4022, 4137, 4424, 4521],\n",
       " [3971, 4193, 4215, 4262, 4358, 4367, 4539],\n",
       " [2979, 3193, 3263, 3344, 3412],\n",
       " [9302, 9325, 9392, 9519, 9568],\n",
       " [5519, 5664, 5811],\n",
       " [3032, 3125, 3195, 3478, 3561],\n",
       " [9305, 9615, 9653],\n",
       " [242, 278, 291, 503],\n",
       " [3578, 3672, 3698],\n",
       " [4119, 4159, 4285, 4314, 4444, 4458, 4505],\n",
       " [9283, 9574, 9602, 9647, 9674],\n",
       " [9328, 9522, 9596],\n",
       " [1032, 1192, 1247, 1257, 1268, 1288, 1405, 1613],\n",
       " [1168, 1367, 1391, 1423, 1471, 1527, 1576, 1606],\n",
       " [9284, 9575, 9603, 9648, 9675],\n",
       " [1218, 1312, 1513],\n",
       " [1080, 1127, 1135, 1157],\n",
       " [9430, 9634, 9658],\n",
       " [4790, 4854, 4918],\n",
       " [7092, 7233, 7462, 7566],\n",
       " [5588, 5696, 5723, 5761, 5886, 5899, 5907, 6024],\n",
       " [6187, 6209, 6438, 6533],\n",
       " [4640, 4764, 4993],\n",
       " [5589, 5697, 5762],\n",
       " [6546, 6635, 6646],\n",
       " [6701,\n",
       "  6737,\n",
       "  6748,\n",
       "  6771,\n",
       "  6785,\n",
       "  6809,\n",
       "  6831,\n",
       "  6849,\n",
       "  6866,\n",
       "  6877,\n",
       "  6933,\n",
       "  6963,\n",
       "  6975,\n",
       "  6986,\n",
       "  7004,\n",
       "  7111,\n",
       "  7133],\n",
       " [411, 759, 816],\n",
       " [6069, 6082, 6435],\n",
       " [6253, 6427, 6653],\n",
       " [6085, 6305, 6391, 6455],\n",
       " [6046, 6072, 6119, 6363, 6468],\n",
       " [6143, 6296, 6483],\n",
       " [1049, 1078, 1086, 1125, 1133, 1155],\n",
       " [7088, 7320, 7458],\n",
       " [255, 325, 408, 481, 512, 633, 661],\n",
       " [4117, 4157, 4191, 4232, 4240, 4365, 4422, 4456, 4474, 4503, 4537],\n",
       " [4802, 4881, 5078],\n",
       " [1193, 1269, 1289],\n",
       " [6702, 6749, 6772, 6810, 6850, 6867, 6878, 6964, 6987, 7005, 7112, 7134],\n",
       " [2982, 3147, 3158, 3347, 3428, 3443, 3533],\n",
       " [368, 557, 812],\n",
       " [6697, 6858, 7167],\n",
       " [447, 581, 756, 780],\n",
       " [6420, 6568, 6618],\n",
       " [4675, 4726, 4759, 4971],\n",
       " [6255, 6376, 6548, 6560, 6570, 6590, 6598, 6620, 6637, 6655],\n",
       " [1169, 1392, 1424],\n",
       " [6322, 6448, 6526],\n",
       " [369, 558, 722, 813],\n",
       " [7243, 7275, 7315, 7453],\n",
       " [5529, 5648, 5728, 5771, 5896, 5904, 5912],\n",
       " [1082, 1129, 1159],\n",
       " [5978, 6151, 6320, 6337, 6401, 6446, 6524],\n",
       " [6045, 6071, 6084, 6118, 6221, 6304, 6328, 6362, 6390, 6454, 6467],\n",
       " [4801, 4880, 4981, 5077],\n",
       " [6271, 6285, 6491, 6503],\n",
       " [4988, 5048, 5090],\n",
       " [6700, 6770, 6830, 6876, 6962, 6985, 7110],\n",
       " [6853, 7120, 7137],\n",
       " [1047, 1076, 1190, 1245, 1286, 1365, 1403],\n",
       " [6034, 6186, 6208, 6437, 6532],\n",
       " [4639, 4763, 4992, 5094],\n",
       " [4127, 4194, 4263],\n",
       " [294, 410, 683, 758, 798, 815],\n",
       " [6326, 6335, 6452, 6530],\n",
       " [1266, 1469, 1511],\n",
       " [5724, 5900, 5908],\n",
       " [4680, 4714, 4923, 5082],\n",
       " [244,\n",
       "  256,\n",
       "  280,\n",
       "  293,\n",
       "  326,\n",
       "  370,\n",
       "  383,\n",
       "  409,\n",
       "  448,\n",
       "  482,\n",
       "  513,\n",
       "  559,\n",
       "  582,\n",
       "  613,\n",
       "  634,\n",
       "  662,\n",
       "  682,\n",
       "  693,\n",
       "  723,\n",
       "  757,\n",
       "  781,\n",
       "  797,\n",
       "  814],\n",
       " [4857, 4891, 4974],\n",
       " [4608, 4678, 4712, 4804, 4921, 5080],\n",
       " [6269, 6360, 6501, 6522],\n",
       " [4620, 4638, 4762, 4776, 4822, 4991, 5051, 5093],\n",
       " [7242, 7274, 7314],\n",
       " [7084, 7416, 7596, 7607],\n",
       " [6147, 6300, 6463, 6487],\n",
       " [5595, 5702, 5740, 5758, 5846, 6021, 6052],\n",
       " [1030, 1153, 1166, 1525, 1574, 1604],\n",
       " [7087, 7301, 7319, 7457],\n",
       " [7152, 7237, 7269],\n",
       " [4045, 4079, 4242, 4327, 4408, 4466, 4476],\n",
       " [4020, 4043, 4213, 4325, 4356, 4442],\n",
       " [3969, 4077, 4260],\n",
       " [9285, 9455, 9576, 9604, 9622, 9649, 9676],\n",
       " [407, 480, 660],\n",
       " [6116, 6149, 6283, 6302, 6399, 6465, 6489],\n",
       " [9245, 9286, 9344, 9577, 9593, 9605, 9623, 9650, 9668, 9677],\n",
       " [7178, 7247, 7599],\n",
       " [3143, 3154, 3450],\n",
       " [5725, 5901, 5909],\n",
       " [6704, 6852, 7136],\n",
       " [5961, 5988, 6094, 6172],\n",
       " [243, 279, 292, 382, 504, 612, 681, 692, 796],\n",
       " [9288, 9304, 9327, 9521, 9595, 9652],\n",
       " [7040, 7149, 7194, 7222, 7244, 7276, 7316, 7454, 7480],\n",
       " [1046, 1075, 1285, 1364, 1402],\n",
       " [6142, 6295, 6482],\n",
       " [327, 449, 614, 635, 663, 694, 782],\n",
       " [6002, 6012, 6174],\n",
       " [3030, 3123, 3144, 3155, 3178, 3314, 3440, 3451, 3476],\n",
       " [4135, 4149, 4283, 4312, 4406, 4519],\n",
       " [4730, 4794, 5060],\n",
       " [9247, 9346, 9432],\n",
       " [4617, 4691, 4811],\n",
       " [4695, 4871, 5018],\n",
       " [5962, 5989, 6001, 6011, 6095, 6173, 6196, 6414],\n",
       " [9279, 9369, 9492, 9570, 9579, 9607, 9625, 9636, 9660, 9670]]"
      ]
     },
     "execution_count": 148,
     "metadata": {},
     "output_type": "execute_result"
    }
   ],
   "source": [
    "[t2[i] for i in s]"
   ]
  },
  {
   "cell_type": "code",
   "execution_count": 149,
   "metadata": {
    "collapsed": false
   },
   "outputs": [
    {
     "data": {
      "text/plain": [
       "[[4607,\n",
       "  4619,\n",
       "  4637,\n",
       "  4677,\n",
       "  4693,\n",
       "  4711,\n",
       "  4728,\n",
       "  4761,\n",
       "  4775,\n",
       "  4792,\n",
       "  4803,\n",
       "  4821,\n",
       "  4856,\n",
       "  4869,\n",
       "  4890,\n",
       "  4920,\n",
       "  4973,\n",
       "  4990,\n",
       "  5016,\n",
       "  5050,\n",
       "  5079,\n",
       "  5092],\n",
       " [2980,\n",
       "  2997,\n",
       "  3013,\n",
       "  3031,\n",
       "  3105,\n",
       "  3124,\n",
       "  3133,\n",
       "  3145,\n",
       "  3156,\n",
       "  3179,\n",
       "  3194,\n",
       "  3209,\n",
       "  3251,\n",
       "  3264,\n",
       "  3293,\n",
       "  3315,\n",
       "  3345,\n",
       "  3413,\n",
       "  3426,\n",
       "  3441,\n",
       "  3452,\n",
       "  3477,\n",
       "  3500,\n",
       "  3512,\n",
       "  3531,\n",
       "  3560],\n",
       " [7041,\n",
       "  7051,\n",
       "  7085,\n",
       "  7094,\n",
       "  7150,\n",
       "  7176,\n",
       "  7195,\n",
       "  7223,\n",
       "  7235,\n",
       "  7245,\n",
       "  7267,\n",
       "  7277,\n",
       "  7299,\n",
       "  7317,\n",
       "  7328,\n",
       "  7341,\n",
       "  7417,\n",
       "  7455,\n",
       "  7464,\n",
       "  7481,\n",
       "  7527,\n",
       "  7568,\n",
       "  7597,\n",
       "  7608],\n",
       " [9246,\n",
       "  9278,\n",
       "  9287,\n",
       "  9303,\n",
       "  9326,\n",
       "  9345,\n",
       "  9368,\n",
       "  9393,\n",
       "  9431,\n",
       "  9462,\n",
       "  9491,\n",
       "  9520,\n",
       "  9569,\n",
       "  9578,\n",
       "  9594,\n",
       "  9606,\n",
       "  9624,\n",
       "  9635,\n",
       "  9651,\n",
       "  9659,\n",
       "  9669],\n",
       " [5977,\n",
       "  6033,\n",
       "  6044,\n",
       "  6070,\n",
       "  6083,\n",
       "  6117,\n",
       "  6150,\n",
       "  6185,\n",
       "  6207,\n",
       "  6220,\n",
       "  6270,\n",
       "  6284,\n",
       "  6303,\n",
       "  6319,\n",
       "  6361,\n",
       "  6389,\n",
       "  6400,\n",
       "  6436,\n",
       "  6445,\n",
       "  6466,\n",
       "  6490,\n",
       "  6502,\n",
       "  6523],\n",
       " [5520,\n",
       "  5530,\n",
       "  5586,\n",
       "  5596,\n",
       "  5637,\n",
       "  5649,\n",
       "  5665,\n",
       "  5694,\n",
       "  5703,\n",
       "  5721,\n",
       "  5729,\n",
       "  5741,\n",
       "  5759,\n",
       "  5772,\n",
       "  5812,\n",
       "  5847,\n",
       "  5884,\n",
       "  5897,\n",
       "  5905,\n",
       "  5913,\n",
       "  6022,\n",
       "  6053],\n",
       " [3970,\n",
       "  4021,\n",
       "  4044,\n",
       "  4078,\n",
       "  4118,\n",
       "  4136,\n",
       "  4158,\n",
       "  4192,\n",
       "  4214,\n",
       "  4241,\n",
       "  4261,\n",
       "  4284,\n",
       "  4313,\n",
       "  4326,\n",
       "  4357,\n",
       "  4366,\n",
       "  4407,\n",
       "  4423,\n",
       "  4443,\n",
       "  4457,\n",
       "  4475,\n",
       "  4504,\n",
       "  4520,\n",
       "  4538],\n",
       " [1031,\n",
       "  1048,\n",
       "  1077,\n",
       "  1124,\n",
       "  1154,\n",
       "  1167,\n",
       "  1191,\n",
       "  1217,\n",
       "  1246,\n",
       "  1256,\n",
       "  1267,\n",
       "  1287,\n",
       "  1311,\n",
       "  1366,\n",
       "  1390,\n",
       "  1404,\n",
       "  1422,\n",
       "  1470,\n",
       "  1512,\n",
       "  1526,\n",
       "  1575,\n",
       "  1605,\n",
       "  1612]]"
      ]
     },
     "execution_count": 149,
     "metadata": {},
     "output_type": "execute_result"
    }
   ],
   "source": [
    "[t2[i] for i in ['AGAAGTGGT','CAATATAAG','ACATCTATG','CTCCGCTTC','TGACGCTCC','CCCAGGAAC','ATTGTTAGG','CTATTCCCT']]"
   ]
  },
  {
   "cell_type": "code",
   "execution_count": 151,
   "metadata": {
    "collapsed": false
   },
   "outputs": [],
   "source": [
    "dtst='CCACGCGGTGTACGCTGCAAAAAGCCTTGCTGAATCAAATAAGGTTCCAGCACATCCTCAATGG\\\n",
    "    TTTCACGTTCTTCGCCAATGGCTGCCGCCAGGTTATCCAGACCTACAGGTCCACCAAAGAACTT\\\n",
    "    ATCGATTACCGCCAGCAACAATTTGCGGTCCATATAATCGAAACCTTCAGCATCGACATTCAAC\\\n",
    "    ATATCCAGCG'"
   ]
  },
  {
   "cell_type": "code",
   "execution_count": 152,
   "metadata": {
    "collapsed": false
   },
   "outputs": [
    {
     "name": "stdout",
     "output_type": "stream",
     "text": [
      "36\n",
      "[18, 19, 20]\n",
      "[82, 95, 104]\n",
      "[96, 105, 113]\n",
      "[69, 75, 78]\n",
      "[81, 91, 94]\n",
      "5\n"
     ]
    }
   ],
   "source": [
    "res=find_in_l(dtst,3,25,3)"
   ]
  },
  {
   "cell_type": "code",
   "execution_count": 153,
   "metadata": {
    "collapsed": false
   },
   "outputs": [
    {
     "data": {
      "text/plain": [
       "(Set(['TTC', 'CCA', 'CAG', 'AAA', 'GCC']),\n",
       " {'   ': [64, 65, 132, 133, 200, 201],\n",
       "  'AAA': [18, 19, 20, 36, 123, 176],\n",
       "  'AAC': [127, 152, 177, 197],\n",
       "  'AAG': [21, 40, 124],\n",
       "  'AAT': [32, 37, 59, 84, 155, 171],\n",
       "  'ACA': [51, 112, 153, 191],\n",
       "  'ACC': [108, 120, 143, 178],\n",
       "  'ACG': [2, 11, 72],\n",
       "  'AGC': [22, 48, 149, 184, 210],\n",
       "  'AGG': [41, 97, 114],\n",
       "  'ATA': [38, 167, 169, 204],\n",
       "  'ATC': [33, 53, 102, 136, 172, 187, 206],\n",
       "  'ATT': [140, 156, 193],\n",
       "  'CAA': [17, 35, 58, 83, 122, 151, 154, 196],\n",
       "  'CAC': [1, 50, 71, 119],\n",
       "  'CAG': [47, 96, 105, 113, 148, 183, 209],\n",
       "  'CAT': [52, 166, 186, 192],\n",
       "  'CCA': [0, 46, 82, 95, 104, 118, 121, 147, 165, 208],\n",
       "  'CCT': [24, 55, 109, 179],\n",
       "  'CGA': [138, 174, 189],\n",
       "  'CGC': [3, 12, 80, 93, 145],\n",
       "  'CTG': [14, 29, 89],\n",
       "  'CTT': [25, 77, 129, 180],\n",
       "  'GAA': [31, 126, 175],\n",
       "  'GCA': [16, 49, 150, 185],\n",
       "  'GCC': [23, 81, 91, 94, 146],\n",
       "  'GCT': [13, 28, 88],\n",
       "  'GGT': [6, 42, 98, 115, 162],\n",
       "  'GTT': [43, 74, 99],\n",
       "  'TAC': [10, 111, 142],\n",
       "  'TAT': [101, 168, 205],\n",
       "  'TCA': [34, 57, 70, 182, 195],\n",
       "  'TCC': [45, 54, 103, 117, 164, 207],\n",
       "  'TCG': [79, 137, 173, 188],\n",
       "  'TGC': [15, 27, 90, 159],\n",
       "  'TTC': [44, 69, 75, 78, 181, 194]})"
      ]
     },
     "execution_count": 153,
     "metadata": {},
     "output_type": "execute_result"
    }
   ],
   "source": [
    "res"
   ]
  },
  {
   "cell_type": "code",
   "execution_count": 154,
   "metadata": {
    "collapsed": false
   },
   "outputs": [
    {
     "data": {
      "text/plain": [
       "26"
      ]
     },
     "execution_count": 154,
     "metadata": {},
     "output_type": "execute_result"
    }
   ],
   "source": [
    "192-166"
   ]
  },
  {
   "cell_type": "code",
   "execution_count": 155,
   "metadata": {
    "collapsed": false
   },
   "outputs": [
    {
     "name": "stdout",
     "output_type": "stream",
     "text": [
      "2\n",
      "[0, 1]\n",
      "1\n"
     ]
    },
    {
     "data": {
      "text/plain": [
       "(Set(['AA']), {'AA': [0, 1, 2, 9, 10, 11], 'CG': [4, 7]})"
      ]
     },
     "execution_count": 155,
     "metadata": {},
     "output_type": "execute_result"
    }
   ],
   "source": [
    "find_in_l('AAAACGTCGAAAAA',2,4,2) "
   ]
  },
  {
   "cell_type": "code",
   "execution_count": 160,
   "metadata": {
    "collapsed": false
   },
   "outputs": [
    {
     "name": "stdout",
     "output_type": "stream",
     "text": [
      "{'A': [0, 4], 'C': [1, 5], 'T': [3], 'G': [2, 6]}\n",
      "['A', 'C', 'G']\n",
      "[0, 4]\n",
      "[1, 5]\n",
      "[2, 6]\n",
      "3\n"
     ]
    },
    {
     "data": {
      "text/plain": [
       "(Set(['A', 'C', 'G']), {'A': [0, 4], 'C': [1, 5], 'G': [2, 6]})"
      ]
     },
     "execution_count": 160,
     "metadata": {},
     "output_type": "execute_result"
    }
   ],
   "source": [
    "find_in_l('ACGTACGT',1,5,2) "
   ]
  },
  {
   "cell_type": "code",
   "execution_count": null,
   "metadata": {
    "collapsed": true
   },
   "outputs": [],
   "source": []
  }
 ],
 "metadata": {
  "kernelspec": {
   "display_name": "Python 2",
   "language": "python",
   "name": "python2"
  },
  "language_info": {
   "codemirror_mode": {
    "name": "ipython",
    "version": 2
   },
   "file_extension": ".py",
   "mimetype": "text/x-python",
   "name": "python",
   "nbconvert_exporter": "python",
   "pygments_lexer": "ipython2",
   "version": "2.7.6"
  }
 },
 "nbformat": 4,
 "nbformat_minor": 0
}
